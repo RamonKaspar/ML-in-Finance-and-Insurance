{
 "cells": [
  {
   "cell_type": "markdown",
   "id": "0864f6f8-d36b-4bb2-9a39-ce2e9780c5f4",
   "metadata": {},
   "source": [
    "# Coding Project 1 : Linear Regression"
   ]
  },
  {
   "cell_type": "markdown",
   "id": "4f5b0c7d-92b3-4cde-a31b-93ff1e7ff46f",
   "metadata": {},
   "source": [
    "**Please write the names of all group members here:**\n",
    "\n",
    "\n",
    "\n",
    "\n",
    "---\n",
    "\n",
    "\n",
    "*Note:* The provided structure for the code below is only suggestive, and if you want to structure your programs differently you may do so."
   ]
  },
  {
   "cell_type": "markdown",
   "id": "ee87ace5-781a-402a-8f0b-3266c446cd30",
   "metadata": {},
   "source": [
    "### Question 1 - Importing the data"
   ]
  },
  {
   "cell_type": "code",
   "execution_count": null,
   "id": "cf5dd6ed-bdad-4351-a2ff-01aded150b90",
   "metadata": {},
   "outputs": [],
   "source": [
    "#For Question 1, you can import the following packages:\n",
    "import matplotlib.pyplot as plt\n",
    "import pandas as pd\n",
    "import numpy as np\n",
    "import scipy.stats as stats\n",
    "\n",
    "#1.a) Import the dataset Housing.csv into Python as a pandas DataFrame and call it Housing.\n",
    "#Remember that the first column of the csv file is an index column and not an explanatory variable.\n",
    "\n",
    "#1.b) Determine graphically whether the target variable SalePrice exhibits a Gaussian distribution. \n",
    "\n",
    "#If not, suggest a suitable transformation to bring SalePrice close to a Gaussian distribution (logarithmic, inverse, square-root, ...).\n",
    "\n",
    "#Do not forget to apply this transformation to the target variable SalePrice in the dataset and perform the regressions of Q2-Q3 on this transformed target.\n",
    "\n",
    "#1.c) Use one-hot encoding for the categorical features using the default function pd.get_dummies(...).\n",
    "\n",
    "#Replace missing numeric values (NaN’s) with the mean of their respective columns using pd.fillna(...).\n",
    "\n",
    "#1.d) Create a second pandas DataFrame from Housing without the categorical features (i.e. no more dummy variables). Call it Housing2.\n"
   ]
  },
  {
   "cell_type": "markdown",
   "id": "86354e30-0b82-481b-a39f-c611e08a4408",
   "metadata": {},
   "source": [
    "### Question 2 - Linear Regression on Housing2"
   ]
  },
  {
   "cell_type": "code",
   "execution_count": null,
   "id": "a1114545-6d94-4276-9e6a-cc84a49309bc",
   "metadata": {},
   "outputs": [],
   "source": [
    "from sklearn.model_selection  import train_test_split\n",
    "from sklearn.linear_model import LinearRegression\n",
    "from sklearn.metrics import mean_squared_error, r2_score\n",
    "from sklearn.preprocessing import PolynomialFeatures\n",
    "import statsmodels.api as sm\n",
    "\n",
    "#2.a) Split the Housing2 data into a training set (X,Y)_train and a test set (X, Y)_test. \n",
    "#Randomly assign 70% of the observations to the training set and the remaining 30% to the test set.\n",
    "\n",
    "#2.b) Fit a linear regression model on the training dataset (X, Y)_train using the sklearn package.\n",
    "#Output a table with the name of each feature and the associated regression coefficient. \n",
    "\n",
    "#Compare the in-sample and out-of-sample Mean Squared Error (MSE) and R^2 of your linear regression model.\n",
    "\n",
    "#2.c) (i) Compute the estimated coefficients for each explanatory variable using the numpy package. Remember that the design matrix A needs to include a column of 1's.\n",
    "\n",
    "#\t  (ii) Compute the standard error of each estimated coefficient using the numpy package.\n",
    "\n",
    "#     (iii) Compute the (in-sample) MSE and R^2 using the numpy package.\n",
    "\n",
    "#     (iv) Do the results change using pseudoinversion instead of standard matrix inversion in (i) and (ii)?\n",
    "\n",
    "#     (v) Compare your results (i), (ii), (iii) (with and without pseudoinversion) to the output of the sm.OLS function. \n",
    "\n",
    "#2.d) Suggest instead a second-order polynomial regression model (including all quadratic and mixed terms) to predict the (transformed) SalePrice.\n",
    "\n",
    "#Does this improve the linear regression model 2.b)? \n",
    "\n",
    "#What happens with higher-order polynomial regression models?\n",
    "\n",
    "\n"
   ]
  },
  {
   "cell_type": "markdown",
   "id": "d31c5ecc-7f64-4788-9237-76dff4e3fb3e",
   "metadata": {},
   "source": [
    "### Question 3 - Regularization techniques on Housing"
   ]
  },
  {
   "cell_type": "code",
   "execution_count": null,
   "id": "e12435fe-6e93-477f-ac34-3440e08463f6",
   "metadata": {},
   "outputs": [],
   "source": [
    "from sklearn.linear_model import Ridge, Lasso\n",
    "from sklearn.model_selection import cross_val_score, RepeatedKFold, KFold\n",
    "\n",
    "#3.a) Perform again a linear regression for the (transformed) SalePrice using this time the full Housing DataFrame. \n",
    "\n",
    "#How do the in-sample and out-of-sample MSE and R^2 metrics compare to the results of Question 2.b) on the Housing2 DataFrame?\n",
    "\n",
    "#3.b)  Implement the truncated pseudoinverse, Ridge and Lasso regularization techniques. \n",
    "#Use 8-fold cross-validation to tune the hyperparameters of each regularization technique based on the R^2 metric.\n",
    "\n",
    "#Compare their performance in terms of in-sample and out-of-sample MSE with the linear regressions of Questions 2.b) and 3.a).\n",
    "\n",
    "#3.c) For the  Lasso regularization technique, how many coefficients are non-zero? \n",
    "\n",
    "#Compare this number with the number of coefficients retained by the Ridge and truncated pseudoinverse techniques and provide an explanation.\n",
    "\t\n",
    "#3.d) Based on your findings from Questions 2 and 3, which model would you recommend? Justify your choice.\n"
   ]
  }
 ],
 "metadata": {
  "kernelspec": {
   "display_name": "Python 3 (ipykernel)",
   "language": "python",
   "name": "python3"
  },
  "language_info": {
   "codemirror_mode": {
    "name": "ipython",
    "version": 3
   },
   "file_extension": ".py",
   "mimetype": "text/x-python",
   "name": "python",
   "nbconvert_exporter": "python",
   "pygments_lexer": "ipython3",
   "version": "3.12.4"
  }
 },
 "nbformat": 4,
 "nbformat_minor": 5
}