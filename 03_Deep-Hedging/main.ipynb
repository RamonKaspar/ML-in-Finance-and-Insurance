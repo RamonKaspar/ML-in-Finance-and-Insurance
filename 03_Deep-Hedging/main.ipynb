{
 "cells": [
  {
   "cell_type": "markdown",
   "id": "9f8b1dcf",
   "metadata": {},
   "source": [
    "**Write the names of all group members (max. 5 members)**:\n",
    "- Ramon, Kaspar\n",
    "- Cyrill, Stotz"
   ]
  },
  {
   "cell_type": "markdown",
   "id": "dd61e386-f037-4784-a966-d74f5aef180c",
   "metadata": {},
   "source": [
    "When submitting your work, please follow closely the template below."
   ]
  },
  {
   "cell_type": "markdown",
   "id": "18b87eda",
   "metadata": {},
   "source": [
    "# Exercise 1"
   ]
  },
  {
   "cell_type": "markdown",
   "id": "9e1793f0",
   "metadata": {},
   "source": [
    "### Question 1.a"
   ]
  },
  {
   "cell_type": "markdown",
   "id": "21d31df1",
   "metadata": {},
   "source": [
    "Check that $ S_t = s_0 \\exp \\left( \\sigma W_t - \\frac{1}{2} \\sigma^2 t \\right)$ solves the Black-Scholes SDE."
   ]
  },
  {
   "cell_type": "markdown",
   "id": "7b164cba",
   "metadata": {},
   "source": [
    "### Question 1.b - Generate dataset"
   ]
  },
  {
   "cell_type": "code",
   "execution_count": 2,
   "id": "46481cfb",
   "metadata": {},
   "outputs": [],
   "source": [
    "# Generate the training set\n",
    "\n",
    "# Generate the test set"
   ]
  },
  {
   "cell_type": "markdown",
   "id": "64ae583b",
   "metadata": {},
   "source": [
    "### Question 1.c - Model implementation"
   ]
  },
  {
   "cell_type": "code",
   "execution_count": 3,
   "id": "053ddb0b",
   "metadata": {},
   "outputs": [],
   "source": [
    "# Implement the deep hedging model\n",
    "\n",
    "# You may use and edit the code shown in demo.ipynb"
   ]
  },
  {
   "cell_type": "markdown",
   "id": "fa09a190",
   "metadata": {},
   "source": [
    "### Question 1.d - Model training"
   ]
  },
  {
   "cell_type": "code",
   "execution_count": 2,
   "id": "4298c4b6",
   "metadata": {},
   "outputs": [],
   "source": [
    "# Implement the payoff function of a call option\n",
    "\n",
    "# Implement a function that returns the Black-Scholes price of a call option with given strike and maturity\n",
    "\n",
    "# Train the model"
   ]
  },
  {
   "cell_type": "markdown",
   "id": "997e1ffc",
   "metadata": {},
   "source": [
    "### Question 1.e - Model evaluation"
   ]
  },
  {
   "cell_type": "code",
   "execution_count": 5,
   "id": "84240871",
   "metadata": {},
   "outputs": [],
   "source": [
    "# Evaluate the hedging losses on the test set\n",
    "\n",
    "# Plot a histogram of the hedging losses and print mean and standard deviation"
   ]
  },
  {
   "cell_type": "markdown",
   "id": "7e0d58e5",
   "metadata": {},
   "source": [
    "A few questions for you to consider...\n",
    "\n",
    "Have you trained your model well?\n",
    "- Are the losses centered on zero?\n",
    "- Is their standard deviation sufficiently small?\n",
    "\n",
    "How can you improve performance?\n",
    "- train for more epochs\n",
    "- try different batch sizes\n",
    "- try a different learning rate\n",
    "- use a learning rate scheduler (see https://pytorch.org/docs/stable/optim.html#how-to-adjust-learning-rate)\n",
    "- try a different activation function\n",
    "- change the networks' architectures (more/less hidden neurons, more/less hidden layers)\n",
    "- reduce/increase the learning rate\n",
    "- implement regularization (use the `weight_decay` argument in the optimizer)\n",
    "- implement batch-normalization (see https://pytorch.org/docs/stable/generated/torch.nn.BatchNorm1d.html)\n",
    "- experiment with different optimizers\n",
    "- ask in the forum"
   ]
  },
  {
   "cell_type": "markdown",
   "id": "50c6ffd9",
   "metadata": {},
   "source": [
    "# Exercise 2"
   ]
  },
  {
   "cell_type": "markdown",
   "id": "c17aa10f-12c9-4099-9658-f5c5cd80aa79",
   "metadata": {},
   "source": [
    "### Question 2.a - Compute analytical solution"
   ]
  },
  {
   "cell_type": "markdown",
   "id": "968df7f8",
   "metadata": {},
   "source": [
    "Show a **step-by-step** derivation of the analytical hedging strategy:\n",
    "\n",
    "\\begin{align*}\n",
    "H^{\\text{BS}}_t(s) & = \\frac{\\partial C(s, t)}{\\partial s} \\\\\n",
    "& = \\ldots\n",
    "\\end{align*}"
   ]
  },
  {
   "cell_type": "markdown",
   "id": "533fd342-036a-47bd-92e7-cf5d0803be6b",
   "metadata": {},
   "source": [
    "### Question 2.b - Analytical solution evaluation"
   ]
  },
  {
   "cell_type": "code",
   "execution_count": 6,
   "id": "42993cf8",
   "metadata": {},
   "outputs": [],
   "source": [
    "# Implement the formula you found\n",
    "\n",
    "# Evaluate the losses of the analytical hedging strategies on the test set"
   ]
  },
  {
   "cell_type": "markdown",
   "id": "d340ddfe-ba3a-402a-8a83-34c4af2867aa",
   "metadata": {},
   "source": [
    "**Something to think about**: in the Black-Scholes model every option can be perfectly hedged using its analytical hedging strategy.\n",
    "But the analytical solution you have computed does not give zero losses. Can you explain why?"
   ]
  },
  {
   "cell_type": "markdown",
   "id": "d3379582-e01b-41eb-9a21-a6aac71b46ec",
   "metadata": {},
   "source": [
    "### Question 2.c - Hedging losses comparison"
   ]
  },
  {
   "cell_type": "markdown",
   "id": "0f94184e",
   "metadata": {},
   "source": [
    "How does your deep hedging model compare with the analytical solution?\n",
    "- If it's worse, you must improve its performance (see checklist above)"
   ]
  },
  {
   "cell_type": "markdown",
   "id": "061f4e62",
   "metadata": {},
   "source": [
    "### Question 2.d - Learned strategy comparison"
   ]
  },
  {
   "cell_type": "code",
   "execution_count": 3,
   "id": "55701ffc",
   "metadata": {},
   "outputs": [],
   "source": [
    "# Plot both the neural network strategies and the analytical hedging strategies"
   ]
  },
  {
   "cell_type": "markdown",
   "id": "6e3d3288",
   "metadata": {},
   "source": [
    "- For what times $t_j$ are the two functions most similar? \n",
    "- Why?"
   ]
  },
  {
   "cell_type": "markdown",
   "id": "96e13c13",
   "metadata": {},
   "source": [
    "# Exercise 3"
   ]
  },
  {
   "cell_type": "markdown",
   "id": "395e7240",
   "metadata": {},
   "source": [
    "### Question 3.a - Model implementation"
   ]
  },
  {
   "cell_type": "code",
   "execution_count": 4,
   "id": "9b24141f",
   "metadata": {},
   "outputs": [],
   "source": [
    "# Implement the new deep hedging model"
   ]
  },
  {
   "cell_type": "markdown",
   "id": "92c7a083-b2f5-4917-830f-560c96dd876f",
   "metadata": {},
   "source": [
    "### Question 3.b - Model training"
   ]
  },
  {
   "cell_type": "code",
   "execution_count": 6,
   "id": "abb85291-ba3b-4edd-940c-d88192f338be",
   "metadata": {},
   "outputs": [],
   "source": [
    "# Train the new deep hedging model"
   ]
  },
  {
   "cell_type": "markdown",
   "id": "2b4263e6",
   "metadata": {},
   "source": [
    "### Question 3.c - Model evaluation"
   ]
  },
  {
   "cell_type": "code",
   "execution_count": 8,
   "id": "2ee525e7",
   "metadata": {},
   "outputs": [],
   "source": [
    "# Evaluate the hedging losses on the test set\n",
    "\n",
    "# Plot a histogram of the hedging losses and print mean and standard deviation"
   ]
  },
  {
   "cell_type": "markdown",
   "id": "62262d18",
   "metadata": {},
   "source": [
    "### Question 3.d - Model comparison"
   ]
  },
  {
   "cell_type": "code",
   "execution_count": 9,
   "id": "6b31de80",
   "metadata": {},
   "outputs": [],
   "source": [
    "# Compare with the first deep hedging model (Exercise 1)\n",
    "# Keep the comparison fair: evaluate run-time, performance and number of parameters."
   ]
  }
 ],
 "metadata": {
  "kernelspec": {
   "display_name": "Python 3 (ipykernel)",
   "language": "python",
   "name": "python3"
  },
  "language_info": {
   "codemirror_mode": {
    "name": "ipython",
    "version": 3
   },
   "file_extension": ".py",
   "mimetype": "text/x-python",
   "name": "python",
   "nbconvert_exporter": "python",
   "pygments_lexer": "ipython3",
   "version": "3.12.7"
  }
 },
 "nbformat": 4,
 "nbformat_minor": 5
}
