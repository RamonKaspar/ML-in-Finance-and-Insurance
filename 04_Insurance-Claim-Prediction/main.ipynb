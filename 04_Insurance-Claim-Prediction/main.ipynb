{
 "cells": [
  {
   "cell_type": "markdown",
   "id": "9f8b1dcf",
   "metadata": {},
   "source": [
    "**Write the names of all group members (max. 5 members)**:\n",
    "- FirstName1, LastName1\n",
    "- FirstName2, LastName2\n",
    "- FirstName3, LastName3\n",
    "- FirstName4, LastName4\n",
    "- FirstName5, LastName5"
   ]
  },
  {
   "cell_type": "markdown",
   "id": "dd61e386-f037-4784-a966-d74f5aef180c",
   "metadata": {},
   "source": [
    "When submitting your work, please follow closely the template below."
   ]
  },
  {
   "cell_type": "markdown",
   "id": "18b87eda",
   "metadata": {},
   "source": [
    "# Exercise 1 (Poisson GLM)"
   ]
  },
  {
   "cell_type": "markdown",
   "id": "9e1793f0",
   "metadata": {},
   "source": [
    "### Question 1.a"
   ]
  },
  {
   "cell_type": "code",
   "execution_count": null,
   "id": "83452882-ca86-4235-a079-9c67609ea94a",
   "metadata": {},
   "outputs": [],
   "source": [
    "# Read csv file `freMTPL2freq.csv` (e.g. use pandas)"
   ]
  },
  {
   "cell_type": "code",
   "execution_count": null,
   "id": "d7ccdf8d-76b7-4fb6-a83b-13232d2f7478",
   "metadata": {},
   "outputs": [],
   "source": [
    "# Pre-process features"
   ]
  },
  {
   "cell_type": "markdown",
   "id": "7b164cba",
   "metadata": {},
   "source": [
    "### Question 1.b"
   ]
  },
  {
   "cell_type": "code",
   "execution_count": null,
   "id": "46481cfb",
   "metadata": {},
   "outputs": [],
   "source": [
    "# Train-test split\n",
    "\n",
    "# Train Poisson GLM\n",
    "# You can use sklearn.linear_model.Poisson_Regressor\n",
    "\n",
    "# Print MAE, MSE and loss on train and test data sets"
   ]
  },
  {
   "cell_type": "markdown",
   "id": "50c6ffd9",
   "metadata": {},
   "source": [
    "# Exercise 2 (Poisson FNN)"
   ]
  },
  {
   "cell_type": "markdown",
   "id": "c17aa10f-12c9-4099-9658-f5c5cd80aa79",
   "metadata": {},
   "source": [
    "### Question 2.a"
   ]
  },
  {
   "cell_type": "code",
   "execution_count": null,
   "id": "4d70ea86-c63a-4c32-a636-de6959f35a3e",
   "metadata": {},
   "outputs": [],
   "source": [
    "# Neural network implementation"
   ]
  },
  {
   "cell_type": "markdown",
   "id": "533fd342-036a-47bd-92e7-cf5d0803be6b",
   "metadata": {},
   "source": [
    "### Question 2.b"
   ]
  },
  {
   "cell_type": "code",
   "execution_count": null,
   "id": "42993cf8",
   "metadata": {},
   "outputs": [],
   "source": [
    "# Train Poisson feedforward neural network model\n",
    "\n",
    "# Print MAE, MSE and loss on train and test data sets\n",
    "\n",
    "# Make sure your model outperforms the Poisson GLM model of Question 1.b."
   ]
  },
  {
   "cell_type": "markdown",
   "id": "96e13c13",
   "metadata": {},
   "source": [
    "# Exercise 3 (Tree-based methods)"
   ]
  },
  {
   "cell_type": "markdown",
   "id": "395e7240",
   "metadata": {},
   "source": [
    "### Question 3.a"
   ]
  },
  {
   "cell_type": "code",
   "execution_count": null,
   "id": "9b24141f",
   "metadata": {},
   "outputs": [],
   "source": [
    "# Implement a regression tree\n",
    "\n",
    "# Cross-validation\n",
    "\n",
    "# Print MAE, MSE and loss on train and test data sets"
   ]
  },
  {
   "cell_type": "markdown",
   "id": "92c7a083-b2f5-4917-830f-560c96dd876f",
   "metadata": {},
   "source": [
    "### Question 3.b"
   ]
  },
  {
   "cell_type": "code",
   "execution_count": null,
   "id": "abb85291-ba3b-4edd-940c-d88192f338be",
   "metadata": {},
   "outputs": [],
   "source": [
    "# Implement a random forest model\n",
    "\n",
    "# Cross-validation\n",
    "\n",
    "# Print MAE, MSE and loss on train and test data sets"
   ]
  },
  {
   "cell_type": "markdown",
   "id": "2b4263e6",
   "metadata": {},
   "source": [
    "### Question 3.c"
   ]
  },
  {
   "cell_type": "code",
   "execution_count": null,
   "id": "2ee525e7",
   "metadata": {},
   "outputs": [],
   "source": [
    "# Implement gradient boosted trees\n",
    "\n",
    "# Cross-validation\n",
    "\n",
    "# Print MAE, MSE and loss on train and test data sets"
   ]
  }
 ],
 "metadata": {
  "kernelspec": {
   "display_name": "Python 3 (ipykernel)",
   "language": "python",
   "name": "python3"
  },
  "language_info": {
   "codemirror_mode": {
    "name": "ipython",
    "version": 3
   },
   "file_extension": ".py",
   "mimetype": "text/x-python",
   "name": "python",
   "nbconvert_exporter": "python",
   "pygments_lexer": "ipython3",
   "version": "3.12.2"
  }
 },
 "nbformat": 4,
 "nbformat_minor": 5
}